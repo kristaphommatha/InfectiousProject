{
 "cells": [
  {
   "cell_type": "code",
   "execution_count": 68,
   "id": "bdb6c245-e0da-4157-88cf-e3638fc93105",
   "metadata": {},
   "outputs": [],
   "source": [
    "import numpy as np\n",
    "import random"
   ]
  },
  {
   "cell_type": "code",
   "execution_count": 103,
   "id": "638ce334-2c8e-4750-83e6-51dbba9f4d3f",
   "metadata": {},
   "outputs": [],
   "source": [
    "# Input Params\n",
    "\n",
    "## Human Params ##\n",
    "Nh = 1000  # Total Human Population size\n",
    "Ih = 0  # Num of Infected Humans to start\n",
    "avg_age = 7300  # days - AKA 20SS years\n",
    "\n",
    "## Mosquito Params ## \n",
    "Nm = 20  # Total Mosquito Pop Size\n",
    "Im = 2  # Num of Infected Mosquitoes to start\n",
    "p_bite = 0.5  # prob of successful bite\n",
    "\n",
    "## Time Params ##\n",
    "t_max = 3650  # 10 years"
   ]
  },
  {
   "cell_type": "code",
   "execution_count": 101,
   "id": "aad71017-c149-4cd4-aa56-996f8a98c2c0",
   "metadata": {},
   "outputs": [],
   "source": [
    "# Initializing Peoples Array based off Params\n",
    "peoples = np.array([['person', 'infection', 'inf_age', 'prev_infs', 'age']])\n",
    "\n",
    "# Generate array\n",
    "for h in range(Nh):\n",
    "    # Creating a random age w/ average of ave_age days\n",
    "    rand_age = np.random.normal(avg_age, 1825)\n",
    "    rand_age = np.round(rand_age).astype(int)\n",
    "    new_person = [h+1, 0, 0, 0, rand_age]  # Assuming no one in the pop has been infected before?\n",
    "    peoples = np.vstack([peoples, new_person])\n",
    "\n",
    "# If we choose to start the pop with initial infection\n",
    "for i in range(Ih):\n",
    "    people_list = list(range(1, Nh+1))\n",
    "    rand_person = random.choice(people_list)\n",
    "    # An already infected person is chosen\n",
    "    while int(peoples[rand_person][1]) == 1:  # NOTE: I want the first row to be string, but that means all entries are strings\n",
    "        # Pick a new person\n",
    "        rand_person = random.choice(people_list)\n",
    "\n",
    "    # Person isn't already infected\n",
    "    if int(peoples[rand_person][1]) == 0:\n",
    "        peoples[rand_person][1] = 1\n",
    "        # random generate an age of infection\n",
    "        rand_age = np.random.normal(7, 4)\n",
    "        rand_age = np.round(rand_age).astype(int)\n",
    "        peoples[rand_person][2] = rand_age"
   ]
  },
  {
   "cell_type": "code",
   "execution_count": null,
   "id": "94f5c40f-1314-4cf8-b82b-4a3b71a5d459",
   "metadata": {},
   "outputs": [],
   "source": [
    "for t in range(t_max):\n",
    "    for h in people[1:]:  # excluding the first row bc that is just headers\n",
    "        new_age = int(h[4]) + 1\n",
    "        h[4] = str(new_age)"
   ]
  }
 ],
 "metadata": {
  "kernelspec": {
   "display_name": "Python 3 (ipykernel)",
   "language": "python",
   "name": "python3"
  },
  "language_info": {
   "codemirror_mode": {
    "name": "ipython",
    "version": 3
   },
   "file_extension": ".py",
   "mimetype": "text/x-python",
   "name": "python",
   "nbconvert_exporter": "python",
   "pygments_lexer": "ipython3",
   "version": "3.10.8"
  }
 },
 "nbformat": 4,
 "nbformat_minor": 5
}
