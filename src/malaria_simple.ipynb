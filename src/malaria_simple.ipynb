{
 "cells": [
  {
   "cell_type": "code",
   "execution_count": 1,
   "id": "9cc4098b-f823-4624-a551-cdd085525e03",
   "metadata": {},
   "outputs": [],
   "source": [
    "import matplotlib\n",
    "matplotlib.use('Agg')  # noqa\n",
    "import matplotlib.pyplot as plt"
   ]
  },
  {
   "cell_type": "code",
   "execution_count": 2,
   "id": "42957077-f1d0-48e4-b3a2-cf5cbc18f1df",
   "metadata": {},
   "outputs": [],
   "source": [
    "def forward_euler(y0, delta_t, dydt):\n",
    "    y_new = y0 + delta_t * dydt\n",
    "    return y_new"
   ]
  },
  {
   "cell_type": "code",
   "execution_count": 3,
   "id": "d393c178-1597-4fb8-99e9-aa085449ec13",
   "metadata": {},
   "outputs": [],
   "source": [
    "def generate_t_list(t0, dt, tmax):\n",
    "    t_list = []\n",
    "    # If 0<dt<1, can't use range function\n",
    "    if (dt > 0 and dt < 1):\n",
    "        count = t0\n",
    "        while (count < tmax):\n",
    "            t_list.append(count)\n",
    "            count += dt\n",
    "    else:  # Get list of times using range\n",
    "        t_list = list(range(t0, tmax, dt))\n",
    "    return t_list"
   ]
  },
  {
   "cell_type": "code",
   "execution_count": 4,
   "id": "f08f5991-9623-4392-8bdb-3c62df56719a",
   "metadata": {},
   "outputs": [],
   "source": [
    "def simulate_malaria_simple(SH_0, IH_0, EH_0, RH_0, SM_0, IM_0, mu_H, mu_M, beta_H, beta_M, nu, sigma, gamma, delta, psi, dt, tmax):\n",
    "    '''\n",
    "    Numerical simulation of a simple malaria model\n",
    "    - Uniform birth/death\n",
    "    - No compartments (Only human and mosquito)\n",
    "    - Calculated using absolute numbers, not proportions\n",
    "    \n",
    "    Humans are simulated using an SEIR model\n",
    "    Mosquitoes are simulated using an SI model\n",
    "    Time is in units of days\n",
    "    \n",
    "    Variables:\n",
    "    mu_H = Natural human death rate\n",
    "    mu_M = Natural mosquito death rate\n",
    "    beta_H = Human exposure rate (mosquito biting rate * chance of infection per bite)\n",
    "    beta_M = Mosquito infection rate (mosquito biting rate * chance of infection after bite)\n",
    "    nu = Tuning factor to scale probability that exposed individuals can pass infection to mosquito\n",
    "    sigma = Rate of development of clinical symptoms in humans after exposure\n",
    "    gamma = Human recovery rate\n",
    "    delta = Infection induced mortality rate in humans\n",
    "    psi = Human loss of immunity rate (return to susceptible)\n",
    "    '''\n",
    "    NH = RH_0 + SH_0 + IH_0 + EH_0\n",
    "    \n",
    "    # Storage of values over time\n",
    "    SH = [SH_0]\n",
    "    EH = [EH_0]\n",
    "    IH = [IH_0]\n",
    "    RH = [RH_0]\n",
    "    \n",
    "    SM = [SM_0]\n",
    "    IM = [IM_0]\n",
    "    \n",
    "    # Set initial values\n",
    "    curr_SH = SH_0\n",
    "    curr_EH = EH_0\n",
    "    curr_IH = IH_0\n",
    "    curr_RH = RH_0\n",
    "    \n",
    "    curr_SM = SM_0\n",
    "    curr_IM = IM_0\n",
    "    \n",
    "    # If 0<dt<1, can't use range function\n",
    "    t_list = generate_t_list(t0=0, dt=dt, tmax=tmax)\n",
    "\n",
    "    for t in t_list:\n",
    "        # dSH = birth + unrecovery rate - exposure rate - death rate\n",
    "        dSH = (mu_H * NH + delta * curr_IH) + (psi * curr_RH) - (beta_H * curr_SH * curr_IM / NH) - (mu_H * curr_SH)\n",
    "        \n",
    "        # dEH = Exposure rate - infection rate - death rate\n",
    "        dEH = (beta_H * curr_SH * curr_IM / NH) - (sigma * curr_EH) - (mu_H * curr_EH)\n",
    "        \n",
    "        # dIH = Infection rate - recovery rate - natural death rate - disease associated mortality\n",
    "        dIH = (sigma * curr_EH) - (gamma * curr_IH) - ((mu_H + delta) * curr_IH)\n",
    "        \n",
    "        # dRH = Recovery rate - unrecovery rate - death rate\n",
    "        dRH = (gamma * curr_IH) - (psi * curr_RH) - (mu_H * curr_RH)\n",
    "        \n",
    "        # dSM = Birth - infection rate - death rate\n",
    "        dSM = (mu_M * (curr_SM + curr_IM)) - (beta_M * (nu * curr_EH + curr_IH)) - (mu_M * curr_SM)\n",
    "        \n",
    "        # dIM = Infection rate - death rate\n",
    "        dIM = (beta_M * (nu * curr_EH + curr_IH)) - (mu_M * curr_IM)\n",
    "\n",
    "        curr_SH = forward_euler(curr_SH, dt, dSH)\n",
    "        curr_EH = forward_euler(curr_EH, dt, dEH)\n",
    "        curr_IH = forward_euler(curr_IH, dt, dIH)\n",
    "        curr_RH = forward_euler(curr_RH, dt, dRH)\n",
    "        \n",
    "        curr_SM = forward_euler(curr_SM, dt, dSM)\n",
    "        curr_IM = forward_euler(curr_IM, dt, dIM)\n",
    "\n",
    "        SH.append(curr_SH)\n",
    "        EH.append(curr_EH)\n",
    "        IH.append(curr_IH)\n",
    "        RH.append(curr_RH)\n",
    "        \n",
    "        SM.append(curr_SM)\n",
    "        IM.append(curr_IM)\n",
    "    \n",
    "    # Complete list of times, return results\n",
    "    t_list.append(t_list[-1] + dt)\n",
    "\n",
    "    return t_list, SH, EH, IH, RH, SM, IM"
   ]
  },
  {
   "cell_type": "code",
   "execution_count": 5,
   "id": "647db686-3f74-42a4-b797-0fa0f66d690a",
   "metadata": {},
   "outputs": [],
   "source": [
    "SH_0 = 4999900\n",
    "EH_0 = 100\n",
    "IH_0 = 0\n",
    "NH = 0\n",
    "SM_0 = 2000\n",
    "IM_0 = 0\n",
    "mu_H = 0.00004\n",
    "mu_M = 0.05\n",
    "beta_H = 0.0905 \n",
    "beta_M = 0.415\n",
    "nu = 0.5\n",
    "sigma = 0.09333\n",
    "gamma = 0.0023 \n",
    "delta =  0.00174\n",
    "psi =  0.0027\n",
    "dt = 1\n",
    "tmax = 720\n",
    "\n",
    "t_list, SH, EH, IH, RH, SM, IM = simulate_malaria_simple(SH_0, IH_0, EH_0, NH, SM_0, IM_0, mu_H, mu_M, beta_H, beta_M, nu, sigma, gamma, delta, psi, dt, tmax)"
   ]
  },
  {
   "cell_type": "code",
   "execution_count": 6,
   "id": "a402445e-90f1-4e35-bc45-1dc11f88ab5e",
   "metadata": {},
   "outputs": [
    {
     "name": "stdout",
     "output_type": "stream",
     "text": [
      "721\n",
      "721\n"
     ]
    }
   ],
   "source": [
    "print(len(t_list))\n",
    "print(len(SH))"
   ]
  },
  {
   "cell_type": "code",
   "execution_count": 7,
   "id": "9d416d45-c18a-4e97-9c97-85b6e0a52dbf",
   "metadata": {},
   "outputs": [],
   "source": [
    "fig, ax = plt.subplots()\n",
    "ax.plot(t_list,SH,label='S Human')\n",
    "ax.plot(t_list,EH,label='E Human')\n",
    "ax.plot(t_list,IH,label='I Human')\n",
    "ax.plot(t_list,RH,label='R Human')\n",
    "ax.set_xlabel('Time (Days)')\n",
    "ax.set_ylabel('Population')\n",
    "ax.set_title('Human Population vs Time')\n",
    "ax.legend(loc='lower right')\n",
    "plt.savefig('smm_humans.png')"
   ]
  },
  {
   "cell_type": "code",
   "execution_count": 8,
   "id": "d6e99666-fe63-4aa0-8c19-a2b78a4bfc4a",
   "metadata": {},
   "outputs": [],
   "source": [
    "fig, ax = plt.subplots()\n",
    "ax.plot(t_list,SM,label='S Mosquito')\n",
    "ax.plot(t_list,IM,label='I Mosquito')\n",
    "ax.set_xlabel('Time (Days)')\n",
    "ax.set_ylabel('Mosquito Population')\n",
    "ax.set_title('Mosquito Population vs Time')\n",
    "ax.legend(loc='lower right')\n",
    "plt.savefig('smm_mosquito.png')"
   ]
  },
  {
   "cell_type": "code",
   "execution_count": null,
   "id": "e4f9e66c-e677-4175-9fce-3f1eba6b4cdd",
   "metadata": {},
   "outputs": [],
   "source": []
  }
 ],
 "metadata": {
  "kernelspec": {
   "display_name": "Python 3 (ipykernel)",
   "language": "python",
   "name": "python3"
  },
  "language_info": {
   "codemirror_mode": {
    "name": "ipython",
    "version": 3
   },
   "file_extension": ".py",
   "mimetype": "text/x-python",
   "name": "python",
   "nbconvert_exporter": "python",
   "pygments_lexer": "ipython3",
   "version": "3.10.8"
  }
 },
 "nbformat": 4,
 "nbformat_minor": 5
}
